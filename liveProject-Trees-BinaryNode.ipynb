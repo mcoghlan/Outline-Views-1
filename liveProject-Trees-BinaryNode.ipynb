{
 "cells": [
  {
   "cell_type": "code",
   "execution_count": 93,
   "id": "03105752",
   "metadata": {},
   "outputs": [],
   "source": [
    "class BinaryNode:\n",
    "\n",
    "    indent = \"  \"\n",
    "    result = \"\"\n",
    "\n",
    "# result += self.left_child.__str__(level + 1)\n",
    "    def add_left(self, left):\n",
    "        self.left_child = left\n",
    "\n",
    "    def add_right(self, right):\n",
    "        self.right_child = right\n",
    "\n",
    "    def __str__(self, level=0):\n",
    "\n",
    "        \n",
    "        result = \"\"\n",
    "\n",
    "        if level == 0: \n",
    "            result = \"\\n\" + self.value + \":\"\n",
    "            level += 1\n",
    "\n",
    "        # if (self.left_child == None) and (self.right_child == None):\n",
    "            # return\n",
    "\n",
    "        if (self.left_child != None) or (self.right_child != None): \n",
    "\n",
    "            # left child \n",
    "            if (self.left_child == None) and (self.right_child != None):\n",
    "                result += \"\\n\" + level*self.indent + \"None\"\n",
    "            else:\n",
    "                result += \"\\n\" + level*self.indent + self.left_child.value +\":\"\n",
    "                result += self.left_child.__str__(level+1)\n",
    "                \n",
    "\n",
    "            # right child                         \n",
    "            if (self.right_child == None) and (self.left_child != None):\n",
    "                result += \"\\n\" + level*self.indent + \"None\"\n",
    "            else:\n",
    "                \n",
    "                result += \"\\n\" + level*self.indent + self.right_child.value + \":\" \n",
    "                result += self.right_child.__str__(level+1)\n",
    "\n",
    "        \n",
    "        return result\n",
    "\n",
    "    \n",
    "    def __init__(self, value):\n",
    "        self.value = value\n",
    "        self.left_child = None\n",
    "        self.right_child = None\n",
    "        return  \n",
    "    \n"
   ]
  },
  {
   "cell_type": "code",
   "execution_count": 94,
   "id": "6ff03eec",
   "metadata": {},
   "outputs": [
    {
     "name": "stdout",
     "output_type": "stream",
     "text": [
      "\n",
      "Root:\n",
      "  A:\n",
      "    C:\n",
      "    D:\n",
      "  B:\n",
      "    None\n",
      "    E:\n",
      "      F:\n",
      "      None\n"
     ]
    }
   ],
   "source": [
    "root = BinaryNode('Root')\n",
    "a = BinaryNode('A')\n",
    "b = BinaryNode('B')\n",
    "c = BinaryNode('C')\n",
    "d = BinaryNode('D')\n",
    "e = BinaryNode('E')\n",
    "f = BinaryNode('F')\n",
    "\n",
    "root.add_left(a)\n",
    "root.add_right(b)\n",
    "a.add_left(c)\n",
    "a.add_right(d)\n",
    "b.add_right(e)\n",
    "e.add_left(f)\n",
    "\n",
    "print(root)\n",
    "#print(a)\n",
    "#print(b)\n",
    "#print(c)\n",
    "#print(d)\n",
    "#print(e)\n",
    "#print(f)"
   ]
  }
 ],
 "metadata": {
  "interpreter": {
   "hash": "10ca8bccea1a17e4ca7b4220bf3091979321323de79aed03d0398ca6025a9d7e"
  },
  "kernelspec": {
   "display_name": "Python 3 (ipykernel)",
   "language": "python",
   "name": "python3"
  },
  "language_info": {
   "codemirror_mode": {
    "name": "ipython",
    "version": 3
   },
   "file_extension": ".py",
   "mimetype": "text/x-python",
   "name": "python",
   "nbconvert_exporter": "python",
   "pygments_lexer": "ipython3",
   "version": "3.9.12"
  }
 },
 "nbformat": 4,
 "nbformat_minor": 5
}
